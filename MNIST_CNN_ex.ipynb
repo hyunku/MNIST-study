{
  "nbformat": 4,
  "nbformat_minor": 0,
  "metadata": {
    "colab": {
      "provenance": [],
      "collapsed_sections": [],
      "authorship_tag": "ABX9TyOWQwpYR41fjqP0EOkJJM8z",
      "include_colab_link": true
    },
    "kernelspec": {
      "name": "python3",
      "display_name": "Python 3"
    },
    "language_info": {
      "name": "python"
    }
  },
  "cells": [
    {
      "cell_type": "markdown",
      "metadata": {
        "id": "view-in-github",
        "colab_type": "text"
      },
      "source": [
        "<a href=\"https://colab.research.google.com/github/hyunku/MNIST-study/blob/main/MNIST_CNN_ex.ipynb\" target=\"_parent\"><img src=\"https://colab.research.google.com/assets/colab-badge.svg\" alt=\"Open In Colab\"/></a>"
      ]
    },
    {
      "cell_type": "markdown",
      "source": [
        "# 강남대학교 데이터사이언스 학술동아리 데이터 세상 활동자료 - made by 강현구"
      ],
      "metadata": {
        "id": "sMLT2ZhMY7uP"
      }
    },
    {
      "cell_type": "markdown",
      "source": [
        "### 1주차 9/28 10:00 -> Introduction 및 CNN 기본 원리\n",
        "### 2주차 10/5 10:00 -> CNN 심화 및 본 코드의 모델 예제로 이해\n",
        "##### 텐서플로에서 가장 기본인 합성곱 연산과 풀링만 배워볼것.\n",
        "##### 이외에도 복잡한 모델에 필요한 concatenate layer, batchnormalization, conv1d 등등 다양한 블록 존재.  \n",
        "### 중간고사 \n",
        "### 중간고사 끝나고 MNIST 데이터 CNN 적용해볼것임."
      ],
      "metadata": {
        "id": "fa1Nfv_hAz37"
      }
    },
    {
      "cell_type": "markdown",
      "source": [
        "#### https://github.com/hyunku/k-project/blob/main/modeling/final_model_module.ipynb 여러 모델 구현해놓음. <br>\n",
        " 모델에 관심 생기면 참고해보면 좋을듯"
      ],
      "metadata": {
        "id": "CoOk5I9neRdf"
      }
    },
    {
      "cell_type": "markdown",
      "source": [
        "# 1주차 내용"
      ],
      "metadata": {
        "id": "IIqlZ_jncX80"
      }
    },
    {
      "cell_type": "markdown",
      "source": [
        "Time Seris 데이터의 경우 LSTM, GRU, Conv1D 등등 인풋을 (batch(=raw), sequence, column) 으로 시간축 데이터를 생성해준 다음 3차원 데이터를 인풋으로 사용해주면 효과적임."
      ],
      "metadata": {
        "id": "bV4RcLLuZlgG"
      }
    },
    {
      "cell_type": "markdown",
      "source": [
        "Image 데이터의 경우 Conv2D + 여러가지 기술들로 (batch, height(세로), width(가로), channel) 4차원 인풋으로 사용."
      ],
      "metadata": {
        "id": "43yEnuS6cEAN"
      }
    },
    {
      "cell_type": "markdown",
      "source": [
        "## 데이터들의 여러 차원 소개"
      ],
      "metadata": {
        "id": "cYNBioyudJ2B"
      }
    },
    {
      "cell_type": "markdown",
      "source": [
        "흑백사진 1장, 데이터프레임 : 2차원 <br>\n",
        "흑백사진 여러장 : 3차원 (batch, height, width) <br>\n",
        "time series data : 3차원 (batch, sequence, col) -> 그냥 2차원으로 사용 많이 하지만 3차원으로 바꿔주는 것이 딥러닝에서 더욱 효과적임<br>\n",
        "컬러사진 1장 : 3차원 (height, width, channel)\n",
        "컬러사진 여러장 : 4차원 (batch, height, width, channel)\n"
      ],
      "metadata": {
        "id": "YtSjaJv4cb7u"
      }
    },
    {
      "cell_type": "markdown",
      "source": [
        "## 영상처리의 분야들\n",
        "\n",
        "1. 이미지 복원(분광처리, 양자화) - 원본 이미지 화질 떨어질 시 Sampling(픽셀나눔) & Quantyfing(양자화) 로 이미지 화질 upgrade \n",
        "-> 관심있으면 가상현실 전공 배성근 교수님 영상처리 수업 들어볼것.\n",
        "2. 이미지 분류 - 학습시 인풋으로 사진, 타겟으로  label 사용\n",
        "3. 객체 검출 - 학습시 인풋으로 사진 내 객체의 좌표들, 타겟으로 사진 내 객체들의 label. 보통 annotation 파일 json형식으로 따로 주어짐."
      ],
      "metadata": {
        "id": "pL6_E3bhXMqf"
      }
    },
    {
      "cell_type": "markdown",
      "source": [
        "CNN 개념은 패드나 그림판으로 설명할 예정. <br><br>\n",
        "1. convolution 연산<br>\n",
        "2. stride<br>\n",
        "3. kernel<br>\n",
        "4. filter<br>\n",
        "5. padding<br>\n",
        "6. activation"
      ],
      "metadata": {
        "id": "ccx7qdYcdVBg"
      }
    },
    {
      "cell_type": "code",
      "execution_count": 23,
      "metadata": {
        "id": "jWY76PHxw9Gn"
      },
      "outputs": [],
      "source": [
        "from tensorflow.keras.datasets import mnist\n",
        "import numpy as np\n",
        "import matplotlib.pyplot as plt\n",
        "from tensorflow.keras.utils import to_categorical\n",
        "from tensorflow.keras.models import Sequential, Model\n",
        "from tensorflow.keras.layers import Dense,Flatten,MaxPooling2D,Conv2D,Input\n",
        "import random"
      ]
    },
    {
      "cell_type": "code",
      "source": [
        "# 원본 데이터 형태 확인\n",
        "(X_train,Y_train),(X_test,Y_test) = mnist.load_data()\n",
        "print(f'X_train: {X_train.shape}       X_test: {X_test.shape}')\n",
        "print(f'Y_train: {Y_train.shape}       Y_test: {Y_test.shape}')"
      ],
      "metadata": {
        "colab": {
          "base_uri": "https://localhost:8080/"
        },
        "id": "0diOJ4pVx1Wq",
        "outputId": "38e1ffd4-37cd-4d9f-cebc-a0a4ac0573a3"
      },
      "execution_count": 18,
      "outputs": [
        {
          "output_type": "stream",
          "name": "stdout",
          "text": [
            "X_train: (60000, 28, 28)       X_test: (10000, 28, 28)\n",
            "Y_train: (60000,)       Y_test: (10000,)\n"
          ]
        }
      ]
    },
    {
      "cell_type": "code",
      "source": [
        "# 보고싶은 데이터\n",
        "show_img = X_train[:5,:,:]\n",
        "show_label = Y_train[:5]\n",
        "\n",
        "fig, axs = plt.subplots(figsize=(10,10), nrows=1, ncols=5) # 그림들 (1,5) 꼴로 보고 싶음\n",
        "for i in range(5):\n",
        "  axs[i].imshow(show_img[i], cmap='gray')\n",
        "  axs[i].set_title(show_label[i])"
      ],
      "metadata": {
        "colab": {
          "base_uri": "https://localhost:8080/",
          "height": 160
        },
        "id": "gni1GBtLx7VC",
        "outputId": "31f2c2bd-1423-4134-a8d0-e144eeee3ee8"
      },
      "execution_count": 15,
      "outputs": [
        {
          "output_type": "display_data",
          "data": {
            "text/plain": [
              "<Figure size 720x720 with 5 Axes>"
            ],
            "image/png": "[encoded data removed]"
          },
          "metadata": {
            "needs_background": "light"
          }
        }
      ]
    },
    {
      "cell_type": "code",
      "source": [
        "# 4차원 데이터로 만들어주기 (CNN 인풋 형태)\n",
        "X_train = X_train.reshape(-1,28,28,1)/255.\n",
        "X_test = X_test.reshape(-1,28,28,1)/255.\n",
        "# one-hot encoding 형태로 바꿔줌 -> 나중에 compile 할때 categorical_crossentropy 사용\n",
        "# 목표변수를 one-hot encoding 하지 않았다면 추후에 compile할때 sparse_categorical_crossentropy 사용\n",
        "Y_train = to_categorical(Y_train)\n",
        "Y_test = to_categorical(Y_test)\n",
        "\n",
        "# 형태 바꿔준 후 모양 확인\n",
        "print(f'X_train: {X_train.shape}       X_test: {X_test.shape}')\n",
        "print(f'Y_train: {Y_train.shape}       Y_test: {Y_test.shape}')"
      ],
      "metadata": {
        "colab": {
          "base_uri": "https://localhost:8080/"
        },
        "id": "AzvHT_dQ1A5i",
        "outputId": "160e7e5a-c032-4292-a227-1e4f7f415ebb"
      },
      "execution_count": 19,
      "outputs": [
        {
          "output_type": "stream",
          "name": "stdout",
          "text": [
            "X_train: (60000, 28, 28, 1)       X_test: (10000, 28, 28, 1)\n",
            "Y_train: (60000, 10)       Y_test: (10000, 10)\n"
          ]
        }
      ]
    },
    {
      "cell_type": "code",
      "source": [
        "# CNN 모델 만들기\n",
        "input_tensor = Input(shape=(X_train.shape[1], X_train.shape[2], X_train.shape[3])) # 28 * 28 * 1\n",
        "x = Conv2D(32,(3,3),1,padding='same',activation='relu')(input_tensor) # 28 * 28 * 32\n",
        "x = Conv2D(64,(3,3),activation='relu')(x) # 26 * 26 * 64\n",
        "x = MaxPooling2D(2)(x) # 13 * 13 * 64\n",
        "x = Flatten()(x) # 10816\n",
        "x = Dense(100, activation='relu')(x) # 100\n",
        "output = Dense(10, activation='softmax')(x) # 10\n",
        "model = Model(inputs=input_tensor, outputs=output)"
      ],
      "metadata": {
        "id": "xm4ptni24Pae"
      },
      "execution_count": 27,
      "outputs": []
    },
    {
      "cell_type": "code",
      "source": [
        "# 모델 요약\n",
        "model.summary()"
      ],
      "metadata": {
        "colab": {
          "base_uri": "https://localhost:8080/"
        },
        "id": "fvZhhdBp8eee",
        "outputId": "1099c946-0840-496b-c17c-d001d996805d"
      },
      "execution_count": 28,
      "outputs": [
        {
          "output_type": "stream",
          "name": "stdout",
          "text": [
            "Model: \"model_2\"\n",
            "_________________________________________________________________\n",
            " Layer (type)                Output Shape              Param #   \n",
            "=================================================================\n",
            " input_4 (InputLayer)        [(None, 28, 28, 1)]       0         \n",
            "                                                                 \n",
            " conv2d_4 (Conv2D)           (None, 28, 28, 32)        320       \n",
            "                                                                 \n",
            " conv2d_5 (Conv2D)           (None, 26, 26, 64)        18496     \n",
            "                                                                 \n",
            " max_pooling2d_2 (MaxPooling  (None, 13, 13, 64)       0         \n",
            " 2D)                                                             \n",
            "                                                                 \n",
            " flatten_2 (Flatten)         (None, 10816)             0         \n",
            "                                                                 \n",
            " dense_4 (Dense)             (None, 100)               1081700   \n",
            "                                                                 \n",
            " dense_5 (Dense)             (None, 10)                1010      \n",
            "                                                                 \n",
            "=================================================================\n",
            "Total params: 1,101,526\n",
            "Trainable params: 1,101,526\n",
            "Non-trainable params: 0\n",
            "_________________________________________________________________\n"
          ]
        }
      ]
    },
    {
      "cell_type": "code",
      "source": [
        "# 모델 학습\n",
        "model.compile(loss = \"categorical_crossentropy\",optimizer = \"adam\",metrics=[\"acc\"])\n",
        "hist = model.fit(X_train,Y_train,validation_data=(X_test,Y_test),epochs=30,batch_size=256)"
      ],
      "metadata": {
        "colab": {
          "base_uri": "https://localhost:8080/"
        },
        "id": "kVE05c6v7i81",
        "outputId": "4a35e857-2e73-4847-ee36-adc661d2b407"
      },
      "execution_count": 31,
      "outputs": [
        {
          "output_type": "stream",
          "name": "stdout",
          "text": [
            "Epoch 1/30\n",
            "235/235 [==============================] - 179s 761ms/step - loss: 0.0260 - acc: 0.9919 - val_loss: 0.0344 - val_acc: 0.9899\n",
            "Epoch 2/30\n",
            "235/235 [==============================] - 193s 819ms/step - loss: 0.0134 - acc: 0.9963 - val_loss: 0.0403 - val_acc: 0.9872\n",
            "Epoch 3/30\n",
            "235/235 [==============================] - 167s 712ms/step - loss: 0.0087 - acc: 0.9973 - val_loss: 0.0385 - val_acc: 0.9889\n",
            "Epoch 4/30\n",
            "235/235 [==============================] - 165s 703ms/step - loss: 0.0074 - acc: 0.9976 - val_loss: 0.0365 - val_acc: 0.9893\n",
            "Epoch 5/30\n",
            "235/235 [==============================] - 160s 683ms/step - loss: 0.0044 - acc: 0.9988 - val_loss: 0.0422 - val_acc: 0.9898\n",
            "Epoch 6/30\n",
            "235/235 [==============================] - 171s 727ms/step - loss: 0.0033 - acc: 0.9990 - val_loss: 0.0422 - val_acc: 0.9890\n",
            "Epoch 7/30\n",
            "235/235 [==============================] - 155s 660ms/step - loss: 0.0031 - acc: 0.9989 - val_loss: 0.0423 - val_acc: 0.9901\n",
            "Epoch 8/30\n",
            "235/235 [==============================] - 155s 661ms/step - loss: 0.0039 - acc: 0.9988 - val_loss: 0.0453 - val_acc: 0.9898\n",
            "Epoch 9/30\n",
            "235/235 [==============================] - 155s 659ms/step - loss: 0.0028 - acc: 0.9991 - val_loss: 0.0394 - val_acc: 0.9904\n",
            "Epoch 10/30\n",
            "235/235 [==============================] - 156s 665ms/step - loss: 0.0018 - acc: 0.9995 - val_loss: 0.0559 - val_acc: 0.9895\n",
            "Epoch 11/30\n",
            "235/235 [==============================] - 156s 663ms/step - loss: 9.2910e-04 - acc: 0.9998 - val_loss: 0.0442 - val_acc: 0.9901\n",
            "Epoch 12/30\n",
            "235/235 [==============================] - 154s 655ms/step - loss: 0.0034 - acc: 0.9988 - val_loss: 0.0453 - val_acc: 0.9897\n",
            "Epoch 13/30\n",
            "235/235 [==============================] - 154s 656ms/step - loss: 0.0033 - acc: 0.9990 - val_loss: 0.0485 - val_acc: 0.9892\n",
            "Epoch 14/30\n",
            "235/235 [==============================] - 154s 658ms/step - loss: 5.7987e-04 - acc: 0.9998 - val_loss: 0.0511 - val_acc: 0.9893\n",
            "Epoch 15/30\n",
            "235/235 [==============================] - 154s 657ms/step - loss: 3.2543e-04 - acc: 0.9999 - val_loss: 0.0460 - val_acc: 0.9906\n",
            "Epoch 16/30\n",
            "235/235 [==============================] - 155s 658ms/step - loss: 3.4573e-05 - acc: 1.0000 - val_loss: 0.0467 - val_acc: 0.9904\n",
            "Epoch 17/30\n",
            "235/235 [==============================] - 154s 653ms/step - loss: 1.5760e-05 - acc: 1.0000 - val_loss: 0.0473 - val_acc: 0.9907\n",
            "Epoch 18/30\n",
            "235/235 [==============================] - 153s 653ms/step - loss: 1.1683e-05 - acc: 1.0000 - val_loss: 0.0476 - val_acc: 0.9907\n",
            "Epoch 19/30\n",
            "235/235 [==============================] - 155s 659ms/step - loss: 9.3545e-06 - acc: 1.0000 - val_loss: 0.0483 - val_acc: 0.9906\n",
            "Epoch 20/30\n",
            "235/235 [==============================] - 154s 655ms/step - loss: 7.6987e-06 - acc: 1.0000 - val_loss: 0.0487 - val_acc: 0.9904\n",
            "Epoch 21/30\n",
            "235/235 [==============================] - 153s 653ms/step - loss: 6.5009e-06 - acc: 1.0000 - val_loss: 0.0494 - val_acc: 0.9904\n",
            "Epoch 22/30\n",
            "235/235 [==============================] - 153s 651ms/step - loss: 5.5194e-06 - acc: 1.0000 - val_loss: 0.0499 - val_acc: 0.9903\n",
            "Epoch 23/30\n",
            "235/235 [==============================] - 153s 652ms/step - loss: 4.7303e-06 - acc: 1.0000 - val_loss: 0.0504 - val_acc: 0.9903\n",
            "Epoch 24/30\n",
            "235/235 [==============================] - 153s 651ms/step - loss: 4.0851e-06 - acc: 1.0000 - val_loss: 0.0508 - val_acc: 0.9903\n",
            "Epoch 25/30\n",
            "235/235 [==============================] - 154s 657ms/step - loss: 3.5479e-06 - acc: 1.0000 - val_loss: 0.0513 - val_acc: 0.9903\n",
            "Epoch 26/30\n",
            "235/235 [==============================] - 156s 664ms/step - loss: 3.0735e-06 - acc: 1.0000 - val_loss: 0.0519 - val_acc: 0.9904\n",
            "Epoch 27/30\n",
            "235/235 [==============================] - 155s 661ms/step - loss: 2.6902e-06 - acc: 1.0000 - val_loss: 0.0525 - val_acc: 0.9904\n",
            "Epoch 28/30\n",
            "235/235 [==============================] - 156s 664ms/step - loss: 2.3537e-06 - acc: 1.0000 - val_loss: 0.0528 - val_acc: 0.9903\n",
            "Epoch 29/30\n",
            "235/235 [==============================] - 156s 664ms/step - loss: 2.0566e-06 - acc: 1.0000 - val_loss: 0.0532 - val_acc: 0.9905\n",
            "Epoch 30/30\n",
            "235/235 [==============================] - 155s 660ms/step - loss: 1.8066e-06 - acc: 1.0000 - val_loss: 0.0537 - val_acc: 0.9906\n"
          ]
        }
      ]
    },
    {
      "cell_type": "code",
      "source": [
        "# 학습 결과 보기\n",
        "loss = hist.history[\"loss\"] # train 셋의 손실\n",
        "acc = hist.history[\"acc\"] # train 셋의 정확도\n",
        "val_loss = hist.history[\"val_loss\"] # 검증셋의 손실\n",
        "val_acc = hist.history[\"val_acc\"] # 검증셋의 정확도\n",
        "\n",
        "# 모델 학습 결과 성능 시각화\n",
        "plt.subplot(1,2,1) \n",
        "plt.plot(range(len(loss)),loss,label = \"Train Loss\")\n",
        "plt.plot(range(len(val_loss)),val_loss,label = \"Validation Loss\")\n",
        "plt.grid()\n",
        "plt.legend()\n",
        "plt.subplot(1,2,2)\n",
        "plt.plot(range(len(acc)),acc,label = \"Train Accuracy\")\n",
        "plt.plot(range(len(val_acc)),val_acc,label = \"Validation Accuracy\")\n",
        "plt.grid()\n",
        "plt.legend()\n",
        "plt.show()"
      ],
      "metadata": {
        "colab": {
          "base_uri": "https://localhost:8080/",
          "height": 265
        },
        "id": "-gj7Zp7_8sWP",
        "outputId": "4d7948f9-5c96-41f0-9dcc-09241811cd59"
      },
      "execution_count": 32,
      "outputs": [
        {
          "output_type": "display_data",
          "data": {
            "text/plain": [
              "<Figure size 432x288 with 2 Axes>"
            ],
            "image/png": "[encoded data removed]"
          },
          "metadata": {
            "needs_background": "light"
          }
        }
      ]
    },
    {
      "cell_type": "code",
      "source": [
        "X_test.shape"
      ],
      "metadata": {
        "colab": {
          "base_uri": "https://localhost:8080/"
        },
        "id": "2cDZVd9nS56z",
        "outputId": "11c07e9d-b966-4364-834d-2b5f2b91efa6"
      },
      "execution_count": 38,
      "outputs": [
        {
          "output_type": "execute_result",
          "data": {
            "text/plain": [
              "(10000, 28, 28, 1)"
            ]
          },
          "metadata": {},
          "execution_count": 38
        }
      ]
    },
    {
      "cell_type": "code",
      "source": [
        "# 랜덤하게 하나 숫자 뽑아서 잘 예측했는지 확인하기\n",
        "\n",
        "X_test_watch = X_test[:,:,:,0] # 흑백사진 시각화 시에는 1차원 없어야함 -> 1차원 있던거 없애주기\n",
        "print(X_test_watch.shape)\n",
        "\n",
        "index = random.randint(0,len(X_test))\n",
        "plt.imshow(X_test_watch[index],cmap=\"gray\")\n",
        "predict = model.predict(X_test[index].reshape(1,28,28,1)) # 모델을 사용하여 예측 -> 예측할때는 4차원 데이터 필요. 1개데이터 사용하므로 맨 앞 1 명시(-1 써도됌 : auto-detect)\n",
        "print(\"Actual : {}\\tPredict : {}\".format(np.argmax(Y_test[index]),np.argmax(predict)),)"
      ],
      "metadata": {
        "colab": {
          "base_uri": "https://localhost:8080/",
          "height": 302
        },
        "id": "hq70xxOk9CaW",
        "outputId": "009e71d5-67c4-4092-cf24-f4106a91b7cc"
      },
      "execution_count": 46,
      "outputs": [
        {
          "output_type": "stream",
          "name": "stdout",
          "text": [
            "(10000, 28, 28)\n",
            "Actual : 2\tPredict : 2\n"
          ]
        },
        {
          "output_type": "display_data",
          "data": {
            "text/plain": [
              "<Figure size 432x288 with 1 Axes>"
            ],
            "image/png": "[encoded data removed]"
          },
          "metadata": {
            "needs_background": "light"
          }
        }
      ]
    },
    {
      "cell_type": "code",
      "source": [
        "# test 셋에서 틀린 데이터 개수 확인\n",
        "wrong_index_list=[]\n",
        "predict = model.predict(X_test)\n",
        "for index in range(len(X_test)):\n",
        "    if np.argmax(Y_test[index]) != np.argmax(predict[index]):\n",
        "        wrong_index_list.append(index)\n",
        "print(wrong_index_list)\n",
        "print(\"총 틀린 갯수 : \",len(wrong_index_list))"
      ],
      "metadata": {
        "colab": {
          "base_uri": "https://localhost:8080/"
        },
        "id": "I94Gnkw69dKZ",
        "outputId": "70ae5da3-8fd1-41f1-ff66-a57767392b07"
      },
      "execution_count": 48,
      "outputs": [
        {
          "output_type": "stream",
          "name": "stdout",
          "text": [
            "[18, 115, 151, 247, 321, 340, 445, 582, 659, 674, 882, 883, 924, 938, 1014, 1039, 1112, 1226, 1232, 1242, 1247, 1260, 1319, 1393, 1414, 1522, 1530, 1549, 1709, 1717, 1878, 1901, 2035, 2040, 2070, 2118, 2129, 2130, 2293, 2462, 2582, 2597, 2654, 2770, 2896, 2921, 2927, 2939, 3225, 3503, 3520, 3558, 3559, 3727, 3762, 3808, 3853, 4078, 4176, 4199, 4201, 4360, 4571, 4740, 4761, 4807, 4823, 5331, 5457, 5654, 5749, 5937, 5955, 5982, 6091, 6576, 6597, 6625, 7216, 8325, 8408, 8527, 9009, 9015, 9019, 9024, 9620, 9638, 9642, 9664, 9692, 9729, 9770, 9839]\n",
            "총 틀린 갯수 :  94\n"
          ]
        }
      ]
    },
    {
      "cell_type": "code",
      "source": [
        "# 틀린 것들 랜덤하게 보여주기\n",
        "X_test_watch = X_test[:,:,:,0] \n",
        "\n",
        "new_index = random.choice(wrong_index_list)\n",
        "plt.imshow(X_test_watch[new_index],cmap=\"gray\")\n",
        "print(\"Actual : {}\\tPredict : {}\".format(np.argmax(Y_test[new_index]),np.argmax(new_index)),)"
      ],
      "metadata": {
        "colab": {
          "base_uri": "https://localhost:8080/",
          "height": 283
        },
        "id": "iA5pJshP98NL",
        "outputId": "d79965ab-2522-4585-eb50-481b49cb049e"
      },
      "execution_count": 50,
      "outputs": [
        {
          "output_type": "stream",
          "name": "stdout",
          "text": [
            "Actual : 7\tPredict : 0\n"
          ]
        },
        {
          "output_type": "display_data",
          "data": {
            "text/plain": [
              "<Figure size 432x288 with 1 Axes>"
            ],
            "image/png": "[encoded data removed]"
          },
          "metadata": {
            "needs_background": "light"
          }
        }
      ]
    },
    {
      "cell_type": "code",
      "source": [],
      "metadata": {
        "id": "x5yu26JWWcOf"
      },
      "execution_count": null,
      "outputs": []
    }
  ]
}